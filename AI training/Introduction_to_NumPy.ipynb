{
  "cells": [
    {
      "cell_type": "markdown",
      "metadata": {
        "id": "-ydn_6FBrd5w"
      },
      "source": [
        "# Introduction to Numpy\n",
        "\n",
        "*   Creating single dimesnional arrays ✅\n",
        "*   Multi dimensional array ✅\n",
        "*   Randomly generated arrays ✅\n",
        "*   Element wise opetations\n",
        "*   Summarizing operations\n"
      ]
    },
    {
      "cell_type": "markdown",
      "metadata": {
        "id": "fWq-Bz_jxfHX"
      },
      "source": [
        "## Single Dimensional Array"
      ]
    },
    {
      "cell_type": "code",
      "execution_count": null,
      "metadata": {
        "id": "8KWsOsawsQwa"
      },
      "outputs": [
        {
          "ename": "",
          "evalue": "",
          "output_type": "error",
          "traceback": [
            "\u001b[1;31mRunning cells with '.venv (Python 3.11.9)' requires the ipykernel package.\n",
            "\u001b[1;31mRun the following command to install 'ipykernel' into the Python environment. \n",
            "\u001b[1;31mCommand: '\"d:/Studies/5th sem/bs/.venv/bin/python.exe\" -m pip install ipykernel -U --force-reinstall'"
          ]
        }
      ],
      "source": [
        "import numpy as np"
      ]
    },
    {
      "cell_type": "code",
      "execution_count": null,
      "metadata": {
        "colab": {
          "base_uri": "https://localhost:8080/"
        },
        "id": "Nts96-2fsyUx",
        "outputId": "50f71a04-da84-40ce-efec-1d966de59820"
      },
      "outputs": [],
      "source": [
        "# Create an array with all the elemests zeros\n",
        "np.zeros(5)"
      ]
    },
    {
      "cell_type": "code",
      "execution_count": null,
      "metadata": {
        "colab": {
          "base_uri": "https://localhost:8080/"
        },
        "id": "J4xt5JwJtk2I",
        "outputId": "c389b49f-78dc-4a95-8fba-053a9c0d6ddd"
      },
      "outputs": [],
      "source": [
        "#creating an array with all the  elememts one\n",
        "np.ones(5)"
      ]
    },
    {
      "cell_type": "code",
      "execution_count": null,
      "metadata": {
        "colab": {
          "base_uri": "https://localhost:8080/"
        },
        "id": "9pnS0HrDtySJ",
        "outputId": "5f31424f-3920-49c4-fcad-f6c93953c99b"
      },
      "outputs": [],
      "source": [
        "# create an array of size 10 with all elements 3\n",
        "np.full(10, 3)"
      ]
    },
    {
      "cell_type": "code",
      "execution_count": null,
      "metadata": {
        "colab": {
          "base_uri": "https://localhost:8080/"
        },
        "id": "aoINg8vRvAMy",
        "outputId": "770e586a-061d-4ad8-97c8-7694a668f5e6"
      },
      "outputs": [],
      "source": [
        "np.array([1, 2, 3, 5,5])"
      ]
    },
    {
      "cell_type": "code",
      "execution_count": null,
      "metadata": {
        "colab": {
          "base_uri": "https://localhost:8080/"
        },
        "id": "VW2kb-5Cv51_",
        "outputId": "a67e50bd-0757-4f8f-90f4-07cc5488f03b"
      },
      "outputs": [],
      "source": [
        "np.arange(3, 10)"
      ]
    },
    {
      "cell_type": "code",
      "execution_count": null,
      "metadata": {
        "colab": {
          "base_uri": "https://localhost:8080/"
        },
        "id": "yXR_uT-kwDsr",
        "outputId": "d6488350-4a6a-4fb7-f0e6-b000b4f7336f"
      },
      "outputs": [],
      "source": [
        "# create an array with evenly spaced numbers within a specified range\n",
        "np.linspace(0, 100, 6)"
      ]
    },
    {
      "cell_type": "code",
      "execution_count": null,
      "metadata": {
        "id": "8U0f6LX5wzcy"
      },
      "outputs": [],
      "source": []
    },
    {
      "cell_type": "markdown",
      "metadata": {
        "id": "zW7S8pMAxtXv"
      },
      "source": [
        "## Multidimensional Arrays\n"
      ]
    },
    {
      "cell_type": "code",
      "execution_count": null,
      "metadata": {
        "colab": {
          "base_uri": "https://localhost:8080/"
        },
        "id": "W4Ehu--tyE0O",
        "outputId": "8804d796-10cc-42cd-f9fb-ba0696c52e4c"
      },
      "outputs": [],
      "source": [
        "#matrix with al elements 0\n",
        "np.zeros([3, 5])"
      ]
    },
    {
      "cell_type": "code",
      "execution_count": null,
      "metadata": {
        "colab": {
          "base_uri": "https://localhost:8080/"
        },
        "id": "MXhhx9aiyNo3",
        "outputId": "6b60ebcf-2464-40e6-e3f5-62d014dc20c4"
      },
      "outputs": [],
      "source": [
        "# square matrix  with all elemets 1\n",
        "np.ones([4, 4])"
      ]
    },
    {
      "cell_type": "code",
      "execution_count": null,
      "metadata": {
        "colab": {
          "base_uri": "https://localhost:8080/"
        },
        "id": "vBC3QwPPyUhH",
        "outputId": "bb0a2e5d-267c-4d51-e801-cf92b544352e"
      },
      "outputs": [],
      "source": [
        "# square matrix 3 by 3 with elemnts starting from 1 to 9\n",
        "np.array([\n",
        "    [1, 2, 3],\n",
        "    [4, 5, 6],\n",
        "    [7, 8, 9]\n",
        "])"
      ]
    },
    {
      "cell_type": "code",
      "execution_count": null,
      "metadata": {
        "colab": {
          "base_uri": "https://localhost:8080/"
        },
        "id": "IrUC5BGszr8x",
        "outputId": "754ad036-1c66-4374-aa58-58a4a99848a4"
      },
      "outputs": [],
      "source": [
        "a= np.array([\n",
        "    [1, 2, 3],\n",
        "    [4, 5, 6],\n",
        "    [7, 8, 9]\n",
        "])\n",
        "a"
      ]
    },
    {
      "cell_type": "code",
      "execution_count": null,
      "metadata": {
        "colab": {
          "base_uri": "https://localhost:8080/"
        },
        "id": "CbXk9TWN0DNE",
        "outputId": "b2e88e06-cdc0-4c81-d2d7-81fe2580f056"
      },
      "outputs": [],
      "source": [
        "# replacing an array\n",
        "a[0, 1]=20\n",
        "print(a)"
      ]
    },
    {
      "cell_type": "code",
      "execution_count": null,
      "metadata": {
        "colab": {
          "base_uri": "https://localhost:8080/"
        },
        "id": "z_ROwXSS0O6a",
        "outputId": "8907bb87-ac2d-4223-ee13-489c05bbeb42"
      },
      "outputs": [],
      "source": [
        "# last row all 1\n",
        "a[2] = [1, 1, 1]\n",
        "a"
      ]
    },
    {
      "cell_type": "code",
      "execution_count": null,
      "metadata": {
        "colab": {
          "base_uri": "https://localhost:8080/"
        },
        "id": "1lhsTinS081C",
        "outputId": "150f5ca6-f4c1-43f0-b009-93543c3cd63d"
      },
      "outputs": [],
      "source": [
        "# last column all 2\n",
        "a[:, 2]= [2, 2, 2]\n",
        "a"
      ]
    },
    {
      "cell_type": "code",
      "execution_count": null,
      "metadata": {
        "colab": {
          "base_uri": "https://localhost:8080/"
        },
        "id": "2ya8MT-01oYf",
        "outputId": "b91e9b6b-e22c-46c1-8e1d-659d8da2a26c"
      },
      "outputs": [],
      "source": [
        "# 3 by 3 matrix all elements 10\n",
        "np.full((3, 3), 10)"
      ]
    },
    {
      "cell_type": "markdown",
      "metadata": {
        "id": "eiEpkwsO2Oen"
      },
      "source": [
        "## Randomly Generated Array\n",
        "- Numpy can create arrays filled with random numbers\n",
        "- To ensure the reproducibility, you can set a seed using ```np.random.seed()```. It will generate the exact same random numbers for each executions.\n",
        "- If you remove or change the seed values, the sequence of random numbers will be changed."
      ]
    },
    {
      "cell_type": "code",
      "execution_count": null,
      "metadata": {
        "colab": {
          "base_uri": "https://localhost:8080/"
        },
        "id": "dZgepGd92Uha",
        "outputId": "0869547c-ecf9-41e6-9a00-74197719753e"
      },
      "outputs": [],
      "source": [
        "np.random.rand(5)"
      ]
    },
    {
      "cell_type": "code",
      "execution_count": null,
      "metadata": {
        "colab": {
          "base_uri": "https://localhost:8080/"
        },
        "id": "gVcxdw6n3ZH0",
        "outputId": "2c465df9-9449-43dd-ea76-dc2f7b9a256f"
      },
      "outputs": [],
      "source": [
        "np.random.seed(80)\n",
        "np.random.rand(5)"
      ]
    },
    {
      "cell_type": "code",
      "execution_count": null,
      "metadata": {
        "colab": {
          "base_uri": "https://localhost:8080/"
        },
        "id": "EbIdDsPC4NjH",
        "outputId": "596dfc9a-a9fc-4558-f216-fc0f52be34b7"
      },
      "outputs": [],
      "source": [
        "np.random.randn(5,2)"
      ]
    },
    {
      "cell_type": "code",
      "execution_count": null,
      "metadata": {
        "colab": {
          "base_uri": "https://localhost:8080/"
        },
        "id": "L570lUAs5E_Z",
        "outputId": "56497bf0-b627-4dfe-e586-2f234a557a54"
      },
      "outputs": [],
      "source": [
        "np.random.randint(low=0, high=100, size=(5, 2))"
      ]
    },
    {
      "cell_type": "code",
      "execution_count": null,
      "metadata": {
        "colab": {
          "base_uri": "https://localhost:8080/"
        },
        "id": "dxpKmlZeGxxC",
        "outputId": "cd59e569-e653-4ec4-80f6-f8eb3c8aff99"
      },
      "outputs": [],
      "source": [
        "import numpy as np\n",
        "a = np.arange(5)\n",
        "a"
      ]
    },
    {
      "cell_type": "code",
      "execution_count": null,
      "metadata": {
        "colab": {
          "base_uri": "https://localhost:8080/"
        },
        "id": "4AWEidd0HVla",
        "outputId": "81a3d412-b74f-4c9c-c95f-d3dbf98402f5"
      },
      "outputs": [],
      "source": [
        "a >= 2"
      ]
    },
    {
      "cell_type": "code",
      "execution_count": null,
      "metadata": {
        "colab": {
          "base_uri": "https://localhost:8080/"
        },
        "id": "sD8eTohCHz6L",
        "outputId": "66f6b908-47b2-4615-eb63-75928934bada"
      },
      "outputs": [],
      "source": [
        "print(a)"
      ]
    },
    {
      "cell_type": "code",
      "execution_count": null,
      "metadata": {
        "colab": {
          "base_uri": "https://localhost:8080/"
        },
        "id": "AFBoyLL5H8Ch",
        "outputId": "226c1ea6-be6e-4845-c5bb-11d6bf039c0d"
      },
      "outputs": [],
      "source": [
        "a.std()"
      ]
    },
    {
      "cell_type": "code",
      "execution_count": null,
      "metadata": {
        "colab": {
          "base_uri": "https://localhost:8080/"
        },
        "id": "I4BvK4dNJ0cE",
        "outputId": "1973c434-9f6d-466c-ee98-e12c64f23cf6"
      },
      "outputs": [],
      "source": [
        "a.min()"
      ]
    },
    {
      "cell_type": "code",
      "execution_count": null,
      "metadata": {
        "colab": {
          "base_uri": "https://localhost:8080/"
        },
        "id": "ZNaxrXtAJ72j",
        "outputId": "e1b79d6f-d87a-4926-e053-3ae0157903f9"
      },
      "outputs": [],
      "source": [
        "a.max()"
      ]
    },
    {
      "cell_type": "code",
      "execution_count": null,
      "metadata": {
        "colab": {
          "base_uri": "https://localhost:8080/"
        },
        "id": "PJSQFeeAJ_dz",
        "outputId": "b5d9f351-8765-46d6-8357-6a63db30f7ac"
      },
      "outputs": [],
      "source": [
        "a.sum()"
      ]
    }
  ],
  "metadata": {
    "colab": {
      "collapsed_sections": [
        "fWq-Bz_jxfHX",
        "zW7S8pMAxtXv"
      ],
      "provenance": [],
      "toc_visible": true
    },
    "kernelspec": {
      "display_name": ".venv",
      "language": "python",
      "name": "python3"
    },
    "language_info": {
      "name": "python",
      "version": "3.11.9"
    }
  },
  "nbformat": 4,
  "nbformat_minor": 0
}
